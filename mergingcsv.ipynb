{
 "cells": [
  {
   "cell_type": "code",
   "execution_count": 2,
   "id": "0c0be49d-2232-4dde-a2ac-6da2402a94bf",
   "metadata": {},
   "outputs": [],
   "source": [
    "import pandas as pd\n",
    "\n",
    "# Load the CSV file with movie IDs and titles into a DataFrame\n",
    "movies_titles_df = pd.read_csv('titles.csv')\n",
    "\n",
    "# Load the CSV file with movie IDs and actors into another DataFrame\n",
    "movies_actors_df = pd.read_csv('credits.csv')\n",
    "\n",
    "# Merge the DataFrames based on the movie IDs\n",
    "merged_df = pd.merge(movies_titles_df, movies_actors_df, on='id', how='inner')\n",
    "\n",
    "# Save the merged DataFrame to a new CSV file\n",
    "merged_df.to_csv('merged_movies.csv', index=False)\n"
   ]
  },
  {
   "cell_type": "code",
   "execution_count": null,
   "id": "413c7faa-0187-4cba-9c60-79ea98cc4b82",
   "metadata": {},
   "outputs": [],
   "source": []
  }
 ],
 "metadata": {
  "kernelspec": {
   "display_name": "Python 3 (ipykernel)",
   "language": "python",
   "name": "python3"
  },
  "language_info": {
   "codemirror_mode": {
    "name": "ipython",
    "version": 3
   },
   "file_extension": ".py",
   "mimetype": "text/x-python",
   "name": "python",
   "nbconvert_exporter": "python",
   "pygments_lexer": "ipython3",
   "version": "3.11.8"
  }
 },
 "nbformat": 4,
 "nbformat_minor": 5
}
